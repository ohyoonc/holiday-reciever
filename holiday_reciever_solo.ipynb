{
  "nbformat": 4,
  "nbformat_minor": 0,
  "metadata": {
    "colab": {
      "provenance": [],
      "authorship_tag": "ABX9TyOfzwmrC3bD6PuMiRguIuMr",
      "include_colab_link": true
    },
    "kernelspec": {
      "name": "python3",
      "display_name": "Python 3"
    },
    "language_info": {
      "name": "python"
    }
  },
  "cells": [
    {
      "cell_type": "markdown",
      "metadata": {
        "id": "view-in-github",
        "colab_type": "text"
      },
      "source": [
        "<a href=\"https://colab.research.google.com/github/ohyoonc/holiday-reciever/blob/main/holiday_reciever_solo.ipynb\" target=\"_parent\"><img src=\"https://colab.research.google.com/assets/colab-badge.svg\" alt=\"Open In Colab\"/></a>"
      ]
    },
    {
      "cell_type": "code",
      "execution_count": null,
      "metadata": {
        "colab": {
          "base_uri": "https://localhost:8080/"
        },
        "id": "DIY2FExjFPAI",
        "outputId": "2a27c9dd-83e3-4d4f-8d47-bae73f145427"
      },
      "outputs": [
        {
          "output_type": "stream",
          "name": "stdout",
          "text": [
            "   dateKind     dateName isHoliday   locdate  seq\n",
            "0        01         1월1일         Y  20240101    1\n",
            "1        01           설날         Y  20240209    1\n",
            "2        01           설날         Y  20240210    1\n",
            "3        01           설날         Y  20240211    1\n",
            "4        01    대체공휴일(설날)         Y  20240212    1\n",
            "5        01          삼일절         Y  20240301    1\n",
            "6        01       국회의원선거         Y  20240410    1\n",
            "7        01         어린이날         Y  20240505    1\n",
            "8        01  대체공휴일(어린이날)         Y  20240506    1\n",
            "9        01       부처님오신날         Y  20240515    1\n",
            "10       01          현충일         Y  20240606    1\n",
            "11       01          광복절         Y  20240815    1\n",
            "12       01           추석         Y  20240916    1\n",
            "13       01           추석         Y  20240917    1\n",
            "14       01           추석         Y  20240918    1\n",
            "15       01          개천절         Y  20241003    1\n",
            "16       01          한글날         Y  20241009    1\n",
            "17       01        기독탄신일         Y  20241225    1\n"
          ]
        }
      ],
      "source": [
        "from datetime import datetime\n",
        "import requests\n",
        "import json\n",
        "import pandas as pd\n",
        "from pandas import json_normalize\n",
        "import gspread\n",
        "from google.oauth2 import service_account\n",
        "\n",
        "today = datetime.today().strftime('%Y%m%d')\n",
        "today_year = '2024'#datetime.today().year\n",
        "\n",
        "key = 'm0vGsVIrIGmJzjZIt7oeHpls98VQ37Q9RY7nPM2U23ySwvaswlsLa4cwwk%2FHsPhWi1ZHkvTMzDj%2Fp9F9cPsNNQ%3D%3D'\n",
        "url = 'http://apis.data.go.kr/B090041/openapi/service/SpcdeInfoService/getRestDeInfo?_type=json&numOfRows=50&solYear=' + str(today_year) + '&ServiceKey=' + str(key)\n",
        "response = requests.get(url)\n",
        "\n",
        "if response.status_code == 200:\n",
        "\tjson_ob = json.loads(response.text)\n",
        "\tholidays_data = json_ob['response']['body']['items']['item']\n",
        "\tdataframe = json_normalize(holidays_data)\n",
        "\n",
        "dateName = dataframe.loc[dataframe['locdate'] == int(today), 'dateName']\n",
        "\n",
        "print(dataframe)\n"
      ]
    },
    {
      "cell_type": "code",
      "source": [],
      "metadata": {
        "id": "cLodnioVTi7a"
      },
      "execution_count": null,
      "outputs": []
    }
  ]
}